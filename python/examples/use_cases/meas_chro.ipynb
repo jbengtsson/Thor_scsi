{
 "cells": [
  {
   "cell_type": "code",
   "execution_count": 1,
   "id": "6912e733",
   "metadata": {},
   "outputs": [],
   "source": [
    "on_line = False\n",
    "\n",
    "if on_line:\n",
    "    from epics import PV\n",
    "    from GetTbTData import GetTbTData\n",
    "\n",
    "import numpy as np\n",
    "import pandas as pd\n",
    "\n",
    "from tbt_bpm import tbt_bpm_class\n",
    "from time import sleep\n",
    "\n",
    "X_, Y_, Z_ = [0, 1, 2]"
   ]
  },
  {
   "cell_type": "code",
   "execution_count": 2,
   "id": "bfe5be24",
   "metadata": {},
   "outputs": [],
   "source": [
    "def meas_chrom(f_rf_pvs, bpm_name, n_steps, f_RF_step, alpha_c, n_point, cut):\n",
    "    file_name = \"test_tbt_data.hdf\"\n",
    "    \n",
    "    tbt_bpm = tbt_bpm_class()\n",
    "    \n",
    "    # Init the BPMs for Tbt data.\n",
    "    if on_line:\n",
    "        tbt_io = GetTbTData(bpm_name)\n",
    "    else:\n",
    "        tbt_df = pd.read_hdf(file_name, key=\"df\")\n",
    "        tbt_bpm.get_tbt_df(tbt_df, n_point, cut)\n",
    "\n",
    "    # Init PVs for master clock.\n",
    "    if on_line:\n",
    "        f_rf_get = PV(f_rf_pvs[0])\n",
    "        f_rf_put = PV(f_rf_pvs[1])    \n",
    "    \n",
    "    # Skip initial transient.\n",
    "    #cut, n_data = [9999, 2**10]\n",
    "    \n",
    "    # Store initial f_rf setpoint.\n",
    "    if on_line:\n",
    "        f_0_RF = f_rf_get.get()\n",
    "    else:\n",
    "        f_0_RF = 500e3\n",
    "    print(\"\\nmeas_chrom:\\n  f_0_RF [MHz] = {:10.6f}\".format(1e-3*f_0_RF))\n",
    "\n",
    "    nu = np.zeros((2, n_steps))\n",
    "    delta = np.zeros(n_steps)\n",
    "    df_RF = -n_steps//2*f_RF_step\n",
    "    print(\"\\n        f_RF      delta   nu_x    nu_y\")\n",
    "    print(\"        [MHz]      [%]\")\n",
    "    \n",
    "    for k in range(0, n_steps):\n",
    "        df_RF += f_RF_step\n",
    "        f_RF = f_0_RF + df_RF\n",
    "        \n",
    "        # Change RF frequency.\n",
    "        #f_rf_put.put(f_RF)\n",
    "        delta[k] = df_RF/(f_0_RF*alpha_c)\n",
    "        \n",
    "        # Read TbT data.\n",
    "        if on_line:\n",
    "            tbt_df = tbt_io.getTbTdata()\n",
    "            if False:\n",
    "                # Save BPM data to file.\n",
    "                tbt_df.to_hdf(file_name, key=\"df\")\n",
    "        \n",
    "        # Analyse TbT data.\n",
    "        print()\n",
    "        tbt_bpm.analyse_tbt_bpm_data(1, True, False, False)\n",
    "        nu[X_][k] = tbt_bpm._f[X_, 0] + 1e0*delta[k]\n",
    "        nu[Y_][k] = tbt_bpm._f[Y_, 0] - 1e0*delta[k]\n",
    "        \n",
    "        print(\"  {:2d} {:10.6f} {:8.5f} {:7.5f} {:7.5f}\".\n",
    "            format(k-n_steps, 1e-3*f_RF, 1e2*delta[k], nu[X_][k],\n",
    "                    nu[Y_][k]))\n",
    "\n",
    "        if on_line:\n",
    "            sleep(1)\n",
    "\n",
    "    n_pol = 2\n",
    "    pol = np.zeros((2, n_pol+1))\n",
    "    for k in range(2):\n",
    "        pol[k] = np.polyfit(delta, nu[k, :], n_pol)\n",
    "    print(\"\\n  ksi = [{:9.3e}, {:9.3e}]\".format(pol[X_][1], pol[Y_][1]))\n",
    "\n",
    "    # Restore initial f_rf setpoint.\n",
    "    if on_line:\n",
    "        f_rf_put.put(f_0_RF)\n",
    "    \n",
    "    return [delta, nu, pol]\n"
   ]
  },
  {
   "cell_type": "code",
   "execution_count": 3,
   "id": "db999d50",
   "metadata": {},
   "outputs": [
    {
     "name": "stdout",
     "output_type": "stream",
     "text": [
      "f_RF [MHz] = 500.000000\n"
     ]
    }
   ],
   "source": [
    "# Main program.\n",
    "\n",
    "# Unit for RF frequency is [kHz].\n",
    "f_rf_get_pv = 'MCLKHX251C:hwRdFreq'\n",
    "f_rf_put_pv = 'MCLKHX251C:freq'\n",
    "f_rf_pvs    = [f_rf_get_pv, f_rf_put_pv]\n",
    "bpm_name    = ['BPMZ5D8R']\n",
    "\n",
    "n_steps   = 5\n",
    "f_RF_step = 0.1\n",
    "alpha_c   = 7.038e-04\n",
    "n_point   = 300\n",
    "cut       = 108\n",
    "\n",
    "if on_line:\n",
    "    f_rf_get = PV(f_rf_get_pv)\n",
    "    f_0_RF = f_rf_get.get()\n",
    "else:\n",
    "    f_0_RF = 500e3\n",
    "print(\"f_RF [MHz] = {:8.6f}\".format(1e-3*f_0_RF))"
   ]
  },
  {
   "cell_type": "code",
   "execution_count": 4,
   "id": "d238c5b3",
   "metadata": {},
   "outputs": [
    {
     "name": "stdout",
     "output_type": "stream",
     "text": [
      "rd_tbt_df: 300\n",
      "\n",
      "meas_chrom:\n",
      "  f_0_RF [MHz] = 500.000000\n",
      "\n",
      "        f_RF      delta   nu_x    nu_y\n",
      "        [MHz]      [%]\n",
      "\n",
      "  -5 499.999800 -0.05683 0.02502 0.10302\n",
      "\n",
      "  -4 499.999900 -0.02842 0.02531 0.10274\n",
      "\n",
      "  -3 500.000000 -0.00000 0.02559 0.10245\n",
      "\n",
      "  -2 500.000100  0.02842 0.02587 0.10217\n",
      "\n",
      "  -1 500.000200  0.05683 0.02616 0.10188\n",
      "\n",
      "  ksi = [1.000e+00, -1.000e+00]\n"
     ]
    }
   ],
   "source": [
    "delta, nu, pol = meas_chrom(f_rf_pvs, bpm_name, n_steps, f_RF_step, alpha_c, n_point, cut)"
   ]
  },
  {
   "cell_type": "code",
   "execution_count": 5,
   "id": "c3986944",
   "metadata": {},
   "outputs": [],
   "source": [
    "if on_line:\n",
    "    f_rf_put = PV('MCLKHX251C:freq')\n",
    "    f_rf_put.put(f_0_RF)"
   ]
  },
  {
   "cell_type": "code",
   "execution_count": 6,
   "id": "2684a637",
   "metadata": {},
   "outputs": [],
   "source": [
    "#print(delta)\n",
    "#plt.plot(delta, nu[0])"
   ]
  },
  {
   "cell_type": "code",
   "execution_count": 9,
   "id": "5062f14b",
   "metadata": {},
   "outputs": [
    {
     "name": "stdout",
     "output_type": "stream",
     "text": [
      "rd_tbt_df: 300\n",
      "\n",
      "Plot saved as: plt_tbt_data.png\n"
     ]
    },
    {
     "data": {
      "image/png": "[encoded data removed]",
      "text/plain": [
       "<Figure size 640x480 with 2 Axes>"
      ]
     },
     "metadata": {},
     "output_type": "display_data"
    }
   ],
   "source": [
    "file_name = \"test_tbt_data.hdf\"\n",
    "n_point   = 300\n",
    "cut       = 108\n",
    "\n",
    "tbt_bpm = tbt_bpm_class()\n",
    "\n",
    "tbt_df = pd.read_hdf(file_name, key=\"df\")\n",
    "tbt_bpm.get_tbt_df(tbt_df, n_point, cut)\n",
    "\n",
    "tbt_bpm.plt_tbt_data()"
   ]
  },
  {
   "cell_type": "code",
   "execution_count": null,
   "id": "a7bebffe-94ee-4dd1-9d09-49e7ce9e6989",
   "metadata": {},
   "outputs": [],
   "source": []
  }
 ],
 "metadata": {
  "kernelspec": {
   "display_name": "Python 3 (ipykernel)",
   "language": "python",
   "name": "python3"
  },
  "language_info": {
   "codemirror_mode": {
    "name": "ipython",
    "version": 3
   },
   "file_extension": ".py",
   "mimetype": "text/x-python",
   "name": "python",
   "nbconvert_exporter": "python",
   "pygments_lexer": "ipython3",
   "version": "3.12.2"
  }
 },
 "nbformat": 4,
 "nbformat_minor": 5
}
